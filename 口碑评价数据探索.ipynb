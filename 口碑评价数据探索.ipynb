{
 "cells": [
  {
   "cell_type": "code",
   "execution_count": 1,
   "metadata": {},
   "outputs": [
    {
     "name": "stdout",
     "output_type": "stream",
     "text": [
      "Untitled.ipynb\r\n",
      "\u001b[1m\u001b[36mYNU.EDU2018-ScenicWord\u001b[m\u001b[m/\r\n",
      "YNU.EDU2018-ScenicWord.zip\r\n",
      "YNU.EDU2018-ScenicWord_submite_sample.csv\r\n"
     ]
    }
   ],
   "source": [
    "ls"
   ]
  },
  {
   "cell_type": "code",
   "execution_count": 1,
   "metadata": {
    "collapsed": true
   },
   "outputs": [],
   "source": [
    "import pandas as pd \n",
    "import numpy as np\n",
    "import matplotlib.pyplot as plt"
   ]
  },
  {
   "cell_type": "code",
   "execution_count": 2,
   "metadata": {
    "collapsed": true
   },
   "outputs": [],
   "source": [
    "import seaborn as sns\n",
    "color = sns.color_palette()\n",
    "%matplotlib inline"
   ]
  },
  {
   "cell_type": "code",
   "execution_count": 3,
   "metadata": {
    "collapsed": true
   },
   "outputs": [],
   "source": [
    "data_path = './YNU.EDU2018-ScenicWord/train_first.csv'\n",
    "\n",
    "df = pd.read_csv(data_path,header = 0, encoding='utf8')"
   ]
  },
  {
   "cell_type": "code",
   "execution_count": 4,
   "metadata": {},
   "outputs": [
    {
     "data": {
      "text/html": [
       "<div>\n",
       "<style>\n",
       "    .dataframe thead tr:only-child th {\n",
       "        text-align: right;\n",
       "    }\n",
       "\n",
       "    .dataframe thead th {\n",
       "        text-align: left;\n",
       "    }\n",
       "\n",
       "    .dataframe tbody tr th {\n",
       "        vertical-align: top;\n",
       "    }\n",
       "</style>\n",
       "<table border=\"1\" class=\"dataframe\">\n",
       "  <thead>\n",
       "    <tr style=\"text-align: right;\">\n",
       "      <th></th>\n",
       "      <th>Id</th>\n",
       "      <th>Discuss</th>\n",
       "      <th>Score</th>\n",
       "    </tr>\n",
       "  </thead>\n",
       "  <tbody>\n",
       "    <tr>\n",
       "      <th>0</th>\n",
       "      <td>201e8bf2-77a2-3a98-9fcf-4ce03914e712</td>\n",
       "      <td>好大的一个游乐公园，已经去了2次，但感觉还没有玩够似的！会有第三，第四次的</td>\n",
       "      <td>5</td>\n",
       "    </tr>\n",
       "    <tr>\n",
       "      <th>1</th>\n",
       "      <td>f4d51947-eac4-3005-9d3c-2f32d6068a2d</td>\n",
       "      <td>新中国成立也是在这举行，对我们中国人来说有些重要及深刻的意义！</td>\n",
       "      <td>4</td>\n",
       "    </tr>\n",
       "    <tr>\n",
       "      <th>2</th>\n",
       "      <td>74aa7ae4-03a4-394c-bee0-5702d3a3082a</td>\n",
       "      <td>庐山瀑布非常有名，也有非常多个瀑布，只是最好看的非三叠泉莫属，推荐一去</td>\n",
       "      <td>4</td>\n",
       "    </tr>\n",
       "    <tr>\n",
       "      <th>3</th>\n",
       "      <td>099661c2-4360-3c49-a2fe-8c783764f7db</td>\n",
       "      <td>个人觉得颐和园是北京最值的一起的地方，不过相比下门票也是最贵的，比起故宫的雄伟与气势磅礴，颐...</td>\n",
       "      <td>5</td>\n",
       "    </tr>\n",
       "    <tr>\n",
       "      <th>4</th>\n",
       "      <td>97ca672d-e558-3542-ba7b-ee719bba1bab</td>\n",
       "      <td>迪斯尼一日游</td>\n",
       "      <td>5</td>\n",
       "    </tr>\n",
       "  </tbody>\n",
       "</table>\n",
       "</div>"
      ],
      "text/plain": [
       "                                     Id  \\\n",
       "0  201e8bf2-77a2-3a98-9fcf-4ce03914e712   \n",
       "1  f4d51947-eac4-3005-9d3c-2f32d6068a2d   \n",
       "2  74aa7ae4-03a4-394c-bee0-5702d3a3082a   \n",
       "3  099661c2-4360-3c49-a2fe-8c783764f7db   \n",
       "4  97ca672d-e558-3542-ba7b-ee719bba1bab   \n",
       "\n",
       "                                             Discuss  Score  \n",
       "0              好大的一个游乐公园，已经去了2次，但感觉还没有玩够似的！会有第三，第四次的      5  \n",
       "1                    新中国成立也是在这举行，对我们中国人来说有些重要及深刻的意义！      4  \n",
       "2                庐山瀑布非常有名，也有非常多个瀑布，只是最好看的非三叠泉莫属，推荐一去      4  \n",
       "3  个人觉得颐和园是北京最值的一起的地方，不过相比下门票也是最贵的，比起故宫的雄伟与气势磅礴，颐...      5  \n",
       "4                                             迪斯尼一日游      5  "
      ]
     },
     "execution_count": 4,
     "metadata": {},
     "output_type": "execute_result"
    }
   ],
   "source": [
    "df.head()"
   ]
  },
  {
   "cell_type": "code",
   "execution_count": 5,
   "metadata": {},
   "outputs": [
    {
     "data": {
      "text/plain": [
       "100000"
      ]
     },
     "execution_count": 5,
     "metadata": {},
     "output_type": "execute_result"
    }
   ],
   "source": [
    "len(df)"
   ]
  },
  {
   "cell_type": "code",
   "execution_count": 6,
   "metadata": {},
   "outputs": [
    {
     "data": {
      "text/plain": [
       "<matplotlib.axes._subplots.AxesSubplot at 0x116a0ea90>"
      ]
     },
     "execution_count": 6,
     "metadata": {},
     "output_type": "execute_result"
    },
    {
     "data": {
      "image/png": "[encoded data removed]",
      "text/plain": [
       "<matplotlib.figure.Figure at 0x116a0e1d0>"
      ]
     },
     "metadata": {},
     "output_type": "display_data"
    }
   ],
   "source": [
    "df['Score'].value_counts().plot(kind='bar')"
   ]
  },
  {
   "cell_type": "code",
   "execution_count": 7,
   "metadata": {},
   "outputs": [
    {
     "data": {
      "text/plain": [
       "<matplotlib.axes._subplots.AxesSubplot at 0x112871cc0>"
      ]
     },
     "execution_count": 7,
     "metadata": {},
     "output_type": "execute_result"
    },
    {
     "data": {
      "image/png": "[encoded data removed]",
      "text/plain": [
       "<matplotlib.figure.Figure at 0x112ad2fd0>"
      ]
     },
     "metadata": {},
     "output_type": "display_data"
    }
   ],
   "source": [
    "df['Score'].plot(kind='kde')"
   ]
  },
  {
   "cell_type": "code",
   "execution_count": 8,
   "metadata": {},
   "outputs": [
    {
     "data": {
      "text/html": [
       "<div>\n",
       "<style>\n",
       "    .dataframe thead tr:only-child th {\n",
       "        text-align: right;\n",
       "    }\n",
       "\n",
       "    .dataframe thead th {\n",
       "        text-align: left;\n",
       "    }\n",
       "\n",
       "    .dataframe tbody tr th {\n",
       "        vertical-align: top;\n",
       "    }\n",
       "</style>\n",
       "<table border=\"1\" class=\"dataframe\">\n",
       "  <thead>\n",
       "    <tr style=\"text-align: right;\">\n",
       "      <th></th>\n",
       "      <th>Id</th>\n",
       "      <th>Discuss</th>\n",
       "      <th>Score</th>\n",
       "    </tr>\n",
       "  </thead>\n",
       "  <tbody>\n",
       "    <tr>\n",
       "      <th>192</th>\n",
       "      <td>52b057ed-a885-3f3e-8c42-cdc2197f8d02</td>\n",
       "      <td>1.31订票总数6张计划2.1去黄山风景区票，共定6张票，三张学生票与三张成人票，因计划有变...</td>\n",
       "      <td>1</td>\n",
       "    </tr>\n",
       "    <tr>\n",
       "      <th>229</th>\n",
       "      <td>80e3560c-eb9f-39b3-bc32-840af9343c7d</td>\n",
       "      <td>不值\\'</td>\n",
       "      <td>1</td>\n",
       "    </tr>\n",
       "    <tr>\n",
       "      <th>239</th>\n",
       "      <td>1e727667-3961-372a-ae61-f0a7ce1874e5</td>\n",
       "      <td>最不愿意提起的景区</td>\n",
       "      <td>1</td>\n",
       "    </tr>\n",
       "    <tr>\n",
       "      <th>381</th>\n",
       "      <td>9edee53c-e328-3367-a6b5-b82e27b862a5</td>\n",
       "      <td>由于是跟团去的，旅行社统一订的票，而且正好赶上8/20第一天试运营，大排长龙的场景可想而知。...</td>\n",
       "      <td>1</td>\n",
       "    </tr>\n",
       "    <tr>\n",
       "      <th>413</th>\n",
       "      <td>46ea7b32-0dc5-3322-8bf0-8936da458fa1</td>\n",
       "      <td>一个字 破 千万不要在上面吃东西 卫生差 而且还贵</td>\n",
       "      <td>1</td>\n",
       "    </tr>\n",
       "    <tr>\n",
       "      <th>606</th>\n",
       "      <td>870cd4ac-ec0d-360d-8681-1e48bd062f49</td>\n",
       "      <td>影响心情</td>\n",
       "      <td>1</td>\n",
       "    </tr>\n",
       "    <tr>\n",
       "      <th>1111</th>\n",
       "      <td>21a75f0d-513a-39a5-96b7-3ec82e0e9879</td>\n",
       "      <td>太坑了，5月2日竟然不开放，白排了两个小时队，没进去景区，停车场还收费，光出停车场就用了半个...</td>\n",
       "      <td>1</td>\n",
       "    </tr>\n",
       "    <tr>\n",
       "      <th>1166</th>\n",
       "      <td>3e5cfd25-ee4c-33af-bf39-b8a8fbe7b68c</td>\n",
       "      <td>这个世界遗产，国家5A级景区几乎是最令我失望的一个了，而且今天还是我时隔几年后的第二次参观。...</td>\n",
       "      <td>1</td>\n",
       "    </tr>\n",
       "    <tr>\n",
       "      <th>1465</th>\n",
       "      <td>728eb490-a4a3-3ff2-a2a0-0224629340ea</td>\n",
       "      <td>整个景区就象个菜市场</td>\n",
       "      <td>1</td>\n",
       "    </tr>\n",
       "    <tr>\n",
       "      <th>1501</th>\n",
       "      <td>fea8f6cd-f3ba-3f3a-b8b4-41420bff281b</td>\n",
       "      <td>里面什么都没有，在329级台阶之后就只有一个有着孙中山先生雕像的陵墓，</td>\n",
       "      <td>1</td>\n",
       "    </tr>\n",
       "  </tbody>\n",
       "</table>\n",
       "</div>"
      ],
      "text/plain": [
       "                                        Id  \\\n",
       "192   52b057ed-a885-3f3e-8c42-cdc2197f8d02   \n",
       "229   80e3560c-eb9f-39b3-bc32-840af9343c7d   \n",
       "239   1e727667-3961-372a-ae61-f0a7ce1874e5   \n",
       "381   9edee53c-e328-3367-a6b5-b82e27b862a5   \n",
       "413   46ea7b32-0dc5-3322-8bf0-8936da458fa1   \n",
       "606   870cd4ac-ec0d-360d-8681-1e48bd062f49   \n",
       "1111  21a75f0d-513a-39a5-96b7-3ec82e0e9879   \n",
       "1166  3e5cfd25-ee4c-33af-bf39-b8a8fbe7b68c   \n",
       "1465  728eb490-a4a3-3ff2-a2a0-0224629340ea   \n",
       "1501  fea8f6cd-f3ba-3f3a-b8b4-41420bff281b   \n",
       "\n",
       "                                                Discuss  Score  \n",
       "192   1.31订票总数6张计划2.1去黄山风景区票，共定6张票，三张学生票与三张成人票，因计划有变...      1  \n",
       "229                                                不值\\'      1  \n",
       "239                                           最不愿意提起的景区      1  \n",
       "381   由于是跟团去的，旅行社统一订的票，而且正好赶上8/20第一天试运营，大排长龙的场景可想而知。...      1  \n",
       "413                           一个字 破 千万不要在上面吃东西 卫生差 而且还贵      1  \n",
       "606                                                影响心情      1  \n",
       "1111  太坑了，5月2日竟然不开放，白排了两个小时队，没进去景区，停车场还收费，光出停车场就用了半个...      1  \n",
       "1166  这个世界遗产，国家5A级景区几乎是最令我失望的一个了，而且今天还是我时隔几年后的第二次参观。...      1  \n",
       "1465                                         整个景区就象个菜市场      1  \n",
       "1501                里面什么都没有，在329级台阶之后就只有一个有着孙中山先生雕像的陵墓，      1  "
      ]
     },
     "execution_count": 8,
     "metadata": {},
     "output_type": "execute_result"
    }
   ],
   "source": [
    "df[df['Score']==1].head(10)"
   ]
  },
  {
   "cell_type": "code",
   "execution_count": 64,
   "metadata": {},
   "outputs": [
    {
     "data": {
      "text/plain": [
       "'国家星级级旅游景区'"
      ]
     },
     "execution_count": 64,
     "metadata": {},
     "output_type": "execute_result"
    }
   ],
   "source": [
    "list(jieba.cut('国家四星级旅游景区'))\n",
    "stri = '国家AAAA级旅游景区'\n",
    "stri = re.sub(r'[A]+','星级',stri.strip())\n",
    "stri"
   ]
  },
  {
   "cell_type": "code",
   "execution_count": 9,
   "metadata": {
    "collapsed": true
   },
   "outputs": [],
   "source": [
    "test_data_path = './YNU.EDU2018-ScenicWord/predict_first.csv'\n",
    "\n",
    "test_df = pd.read_csv(test_data_path,header = 0, encoding='utf8')"
   ]
  },
  {
   "cell_type": "code",
   "execution_count": 11,
   "metadata": {
    "collapsed": true
   },
   "outputs": [],
   "source": [
    "from sklearn.linear_model import LogisticRegression\n",
    "from sklearn.feature_extraction.text import CountVectorizer, TfidfVectorizer"
   ]
  },
  {
   "cell_type": "code",
   "execution_count": 12,
   "metadata": {},
   "outputs": [
    {
     "data": {
      "text/plain": [
       "(48.2835, 78.52227750918834, 1336)"
      ]
     },
     "execution_count": 12,
     "metadata": {},
     "output_type": "execute_result"
    }
   ],
   "source": [
    "lens = df.Discuss.str.len()\n",
    "lens.mean(), lens.std(), lens.max()"
   ]
  },
  {
   "cell_type": "code",
   "execution_count": 13,
   "metadata": {},
   "outputs": [
    {
     "data": {
      "image/png": "[encoded data removed]",
      "text/plain": [
       "<matplotlib.figure.Figure at 0x11422acf8>"
      ]
     },
     "metadata": {},
     "output_type": "display_data"
    }
   ],
   "source": [
    "lens.hist();"
   ]
  },
  {
   "cell_type": "code",
   "execution_count": 47,
   "metadata": {},
   "outputs": [],
   "source": [
    "test_lens = test_df.Discuss.str.len()\n",
    "test_df['lens'] = test_lens"
   ]
  },
  {
   "cell_type": "code",
   "execution_count": 46,
   "metadata": {},
   "outputs": [
    {
     "data": {
      "text/plain": [
       "count    83992.000000\n",
       "mean        53.964854\n",
       "std         82.434277\n",
       "min          1.000000\n",
       "25%         15.000000\n",
       "50%         28.000000\n",
       "75%         60.000000\n",
       "max       1336.000000\n",
       "Name: lens, dtype: float64"
      ]
     },
     "execution_count": 46,
     "metadata": {},
     "output_type": "execute_result"
    }
   ],
   "source": [
    "df['lens'] = lens\n",
    "df['lens'].describe()"
   ]
  },
  {
   "cell_type": "code",
   "execution_count": 48,
   "metadata": {},
   "outputs": [
    {
     "data": {
      "text/plain": [
       "count    30000.0000\n",
       "mean        40.6087\n",
       "std         64.5186\n",
       "min          0.0000\n",
       "25%          8.0000\n",
       "50%         20.0000\n",
       "75%         44.0000\n",
       "max        999.0000\n",
       "Name: lens, dtype: float64"
      ]
     },
     "execution_count": 48,
     "metadata": {},
     "output_type": "execute_result"
    }
   ],
   "source": [
    "test_df['lens'].describe()"
   ]
  },
  {
   "cell_type": "code",
   "execution_count": 49,
   "metadata": {
    "collapsed": true
   },
   "outputs": [],
   "source": [
    "dis = df.loc[df['lens']==1,'Discuss'].tolist()"
   ]
  },
  {
   "cell_type": "code",
   "execution_count": 54,
   "metadata": {},
   "outputs": [
    {
     "data": {
      "text/html": [
       "<div>\n",
       "<style>\n",
       "    .dataframe thead tr:only-child th {\n",
       "        text-align: right;\n",
       "    }\n",
       "\n",
       "    .dataframe thead th {\n",
       "        text-align: left;\n",
       "    }\n",
       "\n",
       "    .dataframe tbody tr th {\n",
       "        vertical-align: top;\n",
       "    }\n",
       "</style>\n",
       "<table border=\"1\" class=\"dataframe\">\n",
       "  <thead>\n",
       "    <tr style=\"text-align: right;\">\n",
       "      <th></th>\n",
       "      <th>Id</th>\n",
       "      <th>Discuss</th>\n",
       "      <th>Score</th>\n",
       "      <th>lens</th>\n",
       "    </tr>\n",
       "  </thead>\n",
       "  <tbody>\n",
       "    <tr>\n",
       "      <th>7</th>\n",
       "      <td>bf13ec92-6079-3451-ade3-88020cb0dcb5</td>\n",
       "      <td>赞</td>\n",
       "      <td>5</td>\n",
       "      <td>1</td>\n",
       "    </tr>\n",
       "    <tr>\n",
       "      <th>86</th>\n",
       "      <td>5739b639-ef22-3593-b98d-f1bebe4d03bb</td>\n",
       "      <td></td>\n",
       "      <td>5</td>\n",
       "      <td>1</td>\n",
       "    </tr>\n",
       "    <tr>\n",
       "      <th>230</th>\n",
       "      <td>461c3f63-b714-3983-8b6c-3fa307686cca</td>\n",
       "      <td>累</td>\n",
       "      <td>4</td>\n",
       "      <td>1</td>\n",
       "    </tr>\n",
       "    <tr>\n",
       "      <th>791</th>\n",
       "      <td>e1a5ea97-4131-3ad1-8749-dbd780ee9f6f</td>\n",
       "      <td>棒</td>\n",
       "      <td>5</td>\n",
       "      <td>1</td>\n",
       "    </tr>\n",
       "    <tr>\n",
       "      <th>1359</th>\n",
       "      <td>21fe9f64-63e5-3215-97d7-02e88b920cfa</td>\n",
       "      <td></td>\n",
       "      <td>5</td>\n",
       "      <td>1</td>\n",
       "    </tr>\n",
       "    <tr>\n",
       "      <th>1382</th>\n",
       "      <td>f06668fa-81c1-3369-b883-be853620d544</td>\n",
       "      <td>美</td>\n",
       "      <td>4</td>\n",
       "      <td>1</td>\n",
       "    </tr>\n",
       "    <tr>\n",
       "      <th>1438</th>\n",
       "      <td>ca20c99e-0a45-3793-8bc5-5c1911e7c00f</td>\n",
       "      <td>爽</td>\n",
       "      <td>5</td>\n",
       "      <td>1</td>\n",
       "    </tr>\n",
       "    <tr>\n",
       "      <th>1626</th>\n",
       "      <td>634bfb80-ac75-31d1-bc49-d2fbca2598a2</td>\n",
       "      <td>酷</td>\n",
       "      <td>5</td>\n",
       "      <td>1</td>\n",
       "    </tr>\n",
       "    <tr>\n",
       "      <th>3468</th>\n",
       "      <td>930fc14f-a9c9-32b8-a643-a3ced118e132</td>\n",
       "      <td></td>\n",
       "      <td>5</td>\n",
       "      <td>1</td>\n",
       "    </tr>\n",
       "    <tr>\n",
       "      <th>4101</th>\n",
       "      <td>727647f8-57dd-31c7-87ce-0072e9c7aab0</td>\n",
       "      <td></td>\n",
       "      <td>3</td>\n",
       "      <td>1</td>\n",
       "    </tr>\n",
       "    <tr>\n",
       "      <th>4216</th>\n",
       "      <td>3ef6dde9-7f8f-374a-8020-c242c703ebe8</td>\n",
       "      <td>玩</td>\n",
       "      <td>4</td>\n",
       "      <td>1</td>\n",
       "    </tr>\n",
       "    <tr>\n",
       "      <th>4244</th>\n",
       "      <td>80f11719-09e3-34f7-8e29-02e8aa4d290c</td>\n",
       "      <td>额</td>\n",
       "      <td>5</td>\n",
       "      <td>1</td>\n",
       "    </tr>\n",
       "    <tr>\n",
       "      <th>4351</th>\n",
       "      <td>0b90b1ce-5edf-3c89-925f-406487c65e55</td>\n",
       "      <td></td>\n",
       "      <td>4</td>\n",
       "      <td>1</td>\n",
       "    </tr>\n",
       "    <tr>\n",
       "      <th>5099</th>\n",
       "      <td>e366dfd0-b6b8-3518-82c1-680fbbd133c1</td>\n",
       "      <td>對</td>\n",
       "      <td>4</td>\n",
       "      <td>1</td>\n",
       "    </tr>\n",
       "    <tr>\n",
       "      <th>5241</th>\n",
       "      <td>8c0c7bfe-a7f3-3e6c-a383-0150e4866814</td>\n",
       "      <td>贵</td>\n",
       "      <td>4</td>\n",
       "      <td>1</td>\n",
       "    </tr>\n",
       "    <tr>\n",
       "      <th>5321</th>\n",
       "      <td>88d60f89-4ab6-32b8-ac19-2bde4de2b9b2</td>\n",
       "      <td>差</td>\n",
       "      <td>3</td>\n",
       "      <td>1</td>\n",
       "    </tr>\n",
       "    <tr>\n",
       "      <th>6211</th>\n",
       "      <td>abfaa442-5e72-381a-96f7-2561711a1bcf</td>\n",
       "      <td>热</td>\n",
       "      <td>5</td>\n",
       "      <td>1</td>\n",
       "    </tr>\n",
       "    <tr>\n",
       "      <th>7699</th>\n",
       "      <td>4a44887c-56a4-3a6c-82d1-19bd11b2a5b2</td>\n",
       "      <td>冷</td>\n",
       "      <td>4</td>\n",
       "      <td>1</td>\n",
       "    </tr>\n",
       "    <tr>\n",
       "      <th>8063</th>\n",
       "      <td>194f68db-1292-372f-958f-336bf1e105c4</td>\n",
       "      <td></td>\n",
       "      <td>5</td>\n",
       "      <td>1</td>\n",
       "    </tr>\n",
       "    <tr>\n",
       "      <th>8650</th>\n",
       "      <td>2faa71f9-fcd1-392e-a3e3-12abc74ac2c3</td>\n",
       "      <td>行</td>\n",
       "      <td>5</td>\n",
       "      <td>1</td>\n",
       "    </tr>\n",
       "    <tr>\n",
       "      <th>10420</th>\n",
       "      <td>e1521035-4687-384e-9687-9b3e95350bf8</td>\n",
       "      <td></td>\n",
       "      <td>4</td>\n",
       "      <td>1</td>\n",
       "    </tr>\n",
       "    <tr>\n",
       "      <th>11510</th>\n",
       "      <td>ca35ea2a-4bb4-3784-991d-37a2dcb64428</td>\n",
       "      <td></td>\n",
       "      <td>4</td>\n",
       "      <td>1</td>\n",
       "    </tr>\n",
       "    <tr>\n",
       "      <th>11600</th>\n",
       "      <td>56e3d521-7e33-30ac-8987-303e64d22ee3</td>\n",
       "      <td></td>\n",
       "      <td>5</td>\n",
       "      <td>1</td>\n",
       "    </tr>\n",
       "    <tr>\n",
       "      <th>12892</th>\n",
       "      <td>b36ababc-3a03-3b2a-9a0a-caeedf3a8b73</td>\n",
       "      <td>值</td>\n",
       "      <td>5</td>\n",
       "      <td>1</td>\n",
       "    </tr>\n",
       "    <tr>\n",
       "      <th>13915</th>\n",
       "      <td>3747d9b0-94df-3e4d-be0a-6c480e82288f</td>\n",
       "      <td>长</td>\n",
       "      <td>5</td>\n",
       "      <td>1</td>\n",
       "    </tr>\n",
       "    <tr>\n",
       "      <th>14567</th>\n",
       "      <td>45c41d76-a735-3bdc-85f5-ba50057df6f3</td>\n",
       "      <td></td>\n",
       "      <td>5</td>\n",
       "      <td>1</td>\n",
       "    </tr>\n",
       "    <tr>\n",
       "      <th>14706</th>\n",
       "      <td>a1d459b8-3439-32a8-8690-c25fc7054109</td>\n",
       "      <td></td>\n",
       "      <td>4</td>\n",
       "      <td>1</td>\n",
       "    </tr>\n",
       "    <tr>\n",
       "      <th>15052</th>\n",
       "      <td>cc68eb9b-05b1-31ab-a75c-22aca6ef5e28</td>\n",
       "      <td>坑</td>\n",
       "      <td>5</td>\n",
       "      <td>1</td>\n",
       "    </tr>\n",
       "    <tr>\n",
       "      <th>16163</th>\n",
       "      <td>6194aab4-25c0-335a-b15c-0f8618958f63</td>\n",
       "      <td>豪</td>\n",
       "      <td>5</td>\n",
       "      <td>1</td>\n",
       "    </tr>\n",
       "    <tr>\n",
       "      <th>18272</th>\n",
       "      <td>85a2b43a-aecb-3855-89b1-9e4d52fe2541</td>\n",
       "      <td></td>\n",
       "      <td>4</td>\n",
       "      <td>1</td>\n",
       "    </tr>\n",
       "    <tr>\n",
       "      <th>...</th>\n",
       "      <td>...</td>\n",
       "      <td>...</td>\n",
       "      <td>...</td>\n",
       "      <td>...</td>\n",
       "    </tr>\n",
       "    <tr>\n",
       "      <th>37479</th>\n",
       "      <td>cbface12-16b3-3ee5-824c-db2bf87bcf40</td>\n",
       "      <td></td>\n",
       "      <td>4</td>\n",
       "      <td>1</td>\n",
       "    </tr>\n",
       "    <tr>\n",
       "      <th>38128</th>\n",
       "      <td>9583f485-26d0-3b35-99a3-5acf37d286f7</td>\n",
       "      <td>嗨</td>\n",
       "      <td>5</td>\n",
       "      <td>1</td>\n",
       "    </tr>\n",
       "    <tr>\n",
       "      <th>38555</th>\n",
       "      <td>79208d3a-f9a4-3a83-aeb5-920a7ba00240</td>\n",
       "      <td></td>\n",
       "      <td>5</td>\n",
       "      <td>1</td>\n",
       "    </tr>\n",
       "    <tr>\n",
       "      <th>43979</th>\n",
       "      <td>8e376f21-88ac-3e15-95e1-6507c15a6990</td>\n",
       "      <td>洞</td>\n",
       "      <td>5</td>\n",
       "      <td>1</td>\n",
       "    </tr>\n",
       "    <tr>\n",
       "      <th>44713</th>\n",
       "      <td>5aa8aa96-3523-3214-af4f-889f2b356ad6</td>\n",
       "      <td>景</td>\n",
       "      <td>4</td>\n",
       "      <td>1</td>\n",
       "    </tr>\n",
       "    <tr>\n",
       "      <th>46097</th>\n",
       "      <td>339ff967-3e0e-3ba8-9f79-098a660964cd</td>\n",
       "      <td>佛</td>\n",
       "      <td>5</td>\n",
       "      <td>1</td>\n",
       "    </tr>\n",
       "    <tr>\n",
       "      <th>46700</th>\n",
       "      <td>140fc5cf-67d1-3ec3-b469-892ed77eb877</td>\n",
       "      <td>石</td>\n",
       "      <td>5</td>\n",
       "      <td>1</td>\n",
       "    </tr>\n",
       "    <tr>\n",
       "      <th>46914</th>\n",
       "      <td>09dbcf1d-85bc-3685-a788-6d0cbeb2709a</td>\n",
       "      <td>优</td>\n",
       "      <td>4</td>\n",
       "      <td>1</td>\n",
       "    </tr>\n",
       "    <tr>\n",
       "      <th>46932</th>\n",
       "      <td>241910f1-61bf-3956-971e-9371a298de54</td>\n",
       "      <td></td>\n",
       "      <td>4</td>\n",
       "      <td>1</td>\n",
       "    </tr>\n",
       "    <tr>\n",
       "      <th>48731</th>\n",
       "      <td>f25e7c22-08c0-3f3f-8309-5956bf4d23bb</td>\n",
       "      <td>吃</td>\n",
       "      <td>4</td>\n",
       "      <td>1</td>\n",
       "    </tr>\n",
       "    <tr>\n",
       "      <th>52359</th>\n",
       "      <td>fc9e63a8-509e-35a6-b5f8-08a3d3480109</td>\n",
       "      <td>险</td>\n",
       "      <td>5</td>\n",
       "      <td>1</td>\n",
       "    </tr>\n",
       "    <tr>\n",
       "      <th>52695</th>\n",
       "      <td>ba3cfab0-06c1-30c1-973c-1e789c34f2f2</td>\n",
       "      <td>丿</td>\n",
       "      <td>5</td>\n",
       "      <td>1</td>\n",
       "    </tr>\n",
       "    <tr>\n",
       "      <th>55591</th>\n",
       "      <td>bef7c220-287a-3e89-9e20-8e032c2e90c1</td>\n",
       "      <td></td>\n",
       "      <td>5</td>\n",
       "      <td>1</td>\n",
       "    </tr>\n",
       "    <tr>\n",
       "      <th>55980</th>\n",
       "      <td>d051abc6-5e8e-3be0-9e4e-877b93a36ec9</td>\n",
       "      <td>良</td>\n",
       "      <td>5</td>\n",
       "      <td>1</td>\n",
       "    </tr>\n",
       "    <tr>\n",
       "      <th>59640</th>\n",
       "      <td>32853732-6e4e-34b7-a720-9952559f2fc0</td>\n",
       "      <td>秋</td>\n",
       "      <td>5</td>\n",
       "      <td>1</td>\n",
       "    </tr>\n",
       "    <tr>\n",
       "      <th>59758</th>\n",
       "      <td>2deb0e47-33a4-3763-8cf6-cacac5f6ed7a</td>\n",
       "      <td>家</td>\n",
       "      <td>5</td>\n",
       "      <td>1</td>\n",
       "    </tr>\n",
       "    <tr>\n",
       "      <th>60499</th>\n",
       "      <td>fe7cec93-b5cf-3a11-849f-1168d8054e46</td>\n",
       "      <td>花</td>\n",
       "      <td>3</td>\n",
       "      <td>1</td>\n",
       "    </tr>\n",
       "    <tr>\n",
       "      <th>61188</th>\n",
       "      <td>07718b85-9e79-3b7b-9ac7-81bf5266cef9</td>\n",
       "      <td>乱</td>\n",
       "      <td>4</td>\n",
       "      <td>1</td>\n",
       "    </tr>\n",
       "    <tr>\n",
       "      <th>65382</th>\n",
       "      <td>81502679-e7e6-3a41-b7bb-d59c21fd8f7e</td>\n",
       "      <td></td>\n",
       "      <td>5</td>\n",
       "      <td>1</td>\n",
       "    </tr>\n",
       "    <tr>\n",
       "      <th>65971</th>\n",
       "      <td>1e95c465-6a29-3aec-a0a9-70168a2d2c08</td>\n",
       "      <td>贊</td>\n",
       "      <td>5</td>\n",
       "      <td>1</td>\n",
       "    </tr>\n",
       "    <tr>\n",
       "      <th>67718</th>\n",
       "      <td>637f76be-edcc-3f50-856f-f9c37de7abb8</td>\n",
       "      <td></td>\n",
       "      <td>4</td>\n",
       "      <td>1</td>\n",
       "    </tr>\n",
       "    <tr>\n",
       "      <th>69722</th>\n",
       "      <td>75749182-437e-3d5b-af17-f1dc6547047a</td>\n",
       "      <td>开</td>\n",
       "      <td>5</td>\n",
       "      <td>1</td>\n",
       "    </tr>\n",
       "    <tr>\n",
       "      <th>71736</th>\n",
       "      <td>809ef1bd-5f7d-34ad-b9f1-a1dc4b9544c3</td>\n",
       "      <td></td>\n",
       "      <td>5</td>\n",
       "      <td>1</td>\n",
       "    </tr>\n",
       "    <tr>\n",
       "      <th>74199</th>\n",
       "      <td>a52b8413-9b21-374d-97c8-0bea421a688b</td>\n",
       "      <td></td>\n",
       "      <td>5</td>\n",
       "      <td>1</td>\n",
       "    </tr>\n",
       "    <tr>\n",
       "      <th>74958</th>\n",
       "      <td>6b81f48f-b470-302c-a0dd-2a0d29008796</td>\n",
       "      <td></td>\n",
       "      <td>5</td>\n",
       "      <td>1</td>\n",
       "    </tr>\n",
       "    <tr>\n",
       "      <th>77914</th>\n",
       "      <td>964b4b35-b757-33f6-9059-3d51f3c38048</td>\n",
       "      <td></td>\n",
       "      <td>5</td>\n",
       "      <td>1</td>\n",
       "    </tr>\n",
       "    <tr>\n",
       "      <th>79038</th>\n",
       "      <td>96dfac19-e0d2-335f-ba0a-ca26b9306e20</td>\n",
       "      <td>嗲</td>\n",
       "      <td>5</td>\n",
       "      <td>1</td>\n",
       "    </tr>\n",
       "    <tr>\n",
       "      <th>82988</th>\n",
       "      <td>91ef803e-bcb2-36b3-9cfa-97d01ad3a55f</td>\n",
       "      <td></td>\n",
       "      <td>5</td>\n",
       "      <td>1</td>\n",
       "    </tr>\n",
       "    <tr>\n",
       "      <th>83412</th>\n",
       "      <td>5f3e9d95-d85a-3d10-b69c-3f57c8ee3581</td>\n",
       "      <td></td>\n",
       "      <td>3</td>\n",
       "      <td>1</td>\n",
       "    </tr>\n",
       "    <tr>\n",
       "      <th>94571</th>\n",
       "      <td>5eeaa853-4d73-3943-a94f-d8b471a4d60c</td>\n",
       "      <td></td>\n",
       "      <td>5</td>\n",
       "      <td>1</td>\n",
       "    </tr>\n",
       "  </tbody>\n",
       "</table>\n",
       "<p>78 rows × 4 columns</p>\n",
       "</div>"
      ],
      "text/plain": [
       "                                         Id Discuss  Score  lens\n",
       "7      bf13ec92-6079-3451-ade3-88020cb0dcb5       赞      5     1\n",
       "86     5739b639-ef22-3593-b98d-f1bebe4d03bb              5     1\n",
       "230    461c3f63-b714-3983-8b6c-3fa307686cca       累      4     1\n",
       "791    e1a5ea97-4131-3ad1-8749-dbd780ee9f6f       棒      5     1\n",
       "1359   21fe9f64-63e5-3215-97d7-02e88b920cfa              5     1\n",
       "1382   f06668fa-81c1-3369-b883-be853620d544       美      4     1\n",
       "1438   ca20c99e-0a45-3793-8bc5-5c1911e7c00f       爽      5     1\n",
       "1626   634bfb80-ac75-31d1-bc49-d2fbca2598a2       酷      5     1\n",
       "3468   930fc14f-a9c9-32b8-a643-a3ced118e132              5     1\n",
       "4101   727647f8-57dd-31c7-87ce-0072e9c7aab0              3     1\n",
       "4216   3ef6dde9-7f8f-374a-8020-c242c703ebe8       玩      4     1\n",
       "4244   80f11719-09e3-34f7-8e29-02e8aa4d290c       额      5     1\n",
       "4351   0b90b1ce-5edf-3c89-925f-406487c65e55              4     1\n",
       "5099   e366dfd0-b6b8-3518-82c1-680fbbd133c1       對      4     1\n",
       "5241   8c0c7bfe-a7f3-3e6c-a383-0150e4866814       贵      4     1\n",
       "5321   88d60f89-4ab6-32b8-ac19-2bde4de2b9b2       差      3     1\n",
       "6211   abfaa442-5e72-381a-96f7-2561711a1bcf       热      5     1\n",
       "7699   4a44887c-56a4-3a6c-82d1-19bd11b2a5b2       冷      4     1\n",
       "8063   194f68db-1292-372f-958f-336bf1e105c4              5     1\n",
       "8650   2faa71f9-fcd1-392e-a3e3-12abc74ac2c3       行      5     1\n",
       "10420  e1521035-4687-384e-9687-9b3e95350bf8              4     1\n",
       "11510  ca35ea2a-4bb4-3784-991d-37a2dcb64428              4     1\n",
       "11600  56e3d521-7e33-30ac-8987-303e64d22ee3              5     1\n",
       "12892  b36ababc-3a03-3b2a-9a0a-caeedf3a8b73       值      5     1\n",
       "13915  3747d9b0-94df-3e4d-be0a-6c480e82288f       长      5     1\n",
       "14567  45c41d76-a735-3bdc-85f5-ba50057df6f3              5     1\n",
       "14706  a1d459b8-3439-32a8-8690-c25fc7054109              4     1\n",
       "15052  cc68eb9b-05b1-31ab-a75c-22aca6ef5e28       坑      5     1\n",
       "16163  6194aab4-25c0-335a-b15c-0f8618958f63       豪      5     1\n",
       "18272  85a2b43a-aecb-3855-89b1-9e4d52fe2541              4     1\n",
       "...                                     ...     ...    ...   ...\n",
       "37479  cbface12-16b3-3ee5-824c-db2bf87bcf40              4     1\n",
       "38128  9583f485-26d0-3b35-99a3-5acf37d286f7       嗨      5     1\n",
       "38555  79208d3a-f9a4-3a83-aeb5-920a7ba00240              5     1\n",
       "43979  8e376f21-88ac-3e15-95e1-6507c15a6990       洞      5     1\n",
       "44713  5aa8aa96-3523-3214-af4f-889f2b356ad6       景      4     1\n",
       "46097  339ff967-3e0e-3ba8-9f79-098a660964cd       佛      5     1\n",
       "46700  140fc5cf-67d1-3ec3-b469-892ed77eb877       石      5     1\n",
       "46914  09dbcf1d-85bc-3685-a788-6d0cbeb2709a       优      4     1\n",
       "46932  241910f1-61bf-3956-971e-9371a298de54              4     1\n",
       "48731  f25e7c22-08c0-3f3f-8309-5956bf4d23bb       吃      4     1\n",
       "52359  fc9e63a8-509e-35a6-b5f8-08a3d3480109       险      5     1\n",
       "52695  ba3cfab0-06c1-30c1-973c-1e789c34f2f2       丿      5     1\n",
       "55591  bef7c220-287a-3e89-9e20-8e032c2e90c1              5     1\n",
       "55980  d051abc6-5e8e-3be0-9e4e-877b93a36ec9       良      5     1\n",
       "59640  32853732-6e4e-34b7-a720-9952559f2fc0       秋      5     1\n",
       "59758  2deb0e47-33a4-3763-8cf6-cacac5f6ed7a       家      5     1\n",
       "60499  fe7cec93-b5cf-3a11-849f-1168d8054e46       花      3     1\n",
       "61188  07718b85-9e79-3b7b-9ac7-81bf5266cef9       乱      4     1\n",
       "65382  81502679-e7e6-3a41-b7bb-d59c21fd8f7e             5     1\n",
       "65971  1e95c465-6a29-3aec-a0a9-70168a2d2c08       贊      5     1\n",
       "67718  637f76be-edcc-3f50-856f-f9c37de7abb8              4     1\n",
       "69722  75749182-437e-3d5b-af17-f1dc6547047a       开      5     1\n",
       "71736  809ef1bd-5f7d-34ad-b9f1-a1dc4b9544c3              5     1\n",
       "74199  a52b8413-9b21-374d-97c8-0bea421a688b              5     1\n",
       "74958  6b81f48f-b470-302c-a0dd-2a0d29008796             5     1\n",
       "77914  964b4b35-b757-33f6-9059-3d51f3c38048             5     1\n",
       "79038  96dfac19-e0d2-335f-ba0a-ca26b9306e20       嗲      5     1\n",
       "82988  91ef803e-bcb2-36b3-9cfa-97d01ad3a55f              5     1\n",
       "83412  5f3e9d95-d85a-3d10-b69c-3f57c8ee3581              3     1\n",
       "94571  5eeaa853-4d73-3943-a94f-d8b471a4d60c              5     1\n",
       "\n",
       "[78 rows x 4 columns]"
      ]
     },
     "execution_count": 54,
     "metadata": {},
     "output_type": "execute_result"
    }
   ],
   "source": [
    "df.loc[df['lens']==1,:]"
   ]
  },
  {
   "cell_type": "code",
   "execution_count": 56,
   "metadata": {},
   "outputs": [
    {
     "data": {
      "text/plain": [
       "30000"
      ]
     },
     "execution_count": 56,
     "metadata": {},
     "output_type": "execute_result"
    }
   ],
   "source": [
    "len(test_df['Id'].unique())"
   ]
  },
  {
   "cell_type": "code",
   "execution_count": 14,
   "metadata": {
    "collapsed": true
   },
   "outputs": [],
   "source": [
    "stop_word = []\n",
    "stop_words_path = 'stopWordList.txt'\n",
    "with open(stop_words_path,encoding='utf8') as f:\n",
    "    for line in f.readlines():\n",
    "        stop_word.append(line.strip())\n",
    "stop_word.append(' ')"
   ]
  },
  {
   "cell_type": "code",
   "execution_count": 15,
   "metadata": {
    "collapsed": true
   },
   "outputs": [],
   "source": [
    "import jieba\n",
    "import re\n",
    "def clean_str(stri):\n",
    "    stri = re.sub(r'[a-zA-Z0-9]+','',stri)\n",
    "    cut_str = jieba.cut(stri)\n",
    "    list_str = [word for word in cut_str if word not in stop_word]\n",
    "    stri = ' '.join(list_str)\n",
    "    return stri"
   ]
  },
  {
   "cell_type": "code",
   "execution_count": 16,
   "metadata": {
    "collapsed": true
   },
   "outputs": [],
   "source": [
    "df.drop_duplicates(subset='Discuss', keep='first',inplace=True)"
   ]
  },
  {
   "cell_type": "code",
   "execution_count": 17,
   "metadata": {},
   "outputs": [
    {
     "data": {
      "text/plain": [
       "83992"
      ]
     },
     "execution_count": 17,
     "metadata": {},
     "output_type": "execute_result"
    }
   ],
   "source": [
    "len(df)"
   ]
  },
  {
   "cell_type": "code",
   "execution_count": 18,
   "metadata": {},
   "outputs": [
    {
     "name": "stderr",
     "output_type": "stream",
     "text": [
      "Building prefix dict from the default dictionary ...\n",
      "Loading model from cache /var/folders/s5/cxqfsb816f36h8gp706x5kjm0000gn/T/jieba.cache\n",
      "Loading model cost 1.081 seconds.\n",
      "Prefix dict has been built succesfully.\n"
     ]
    }
   ],
   "source": [
    "df['Discuss'] = df['Discuss'].map(lambda x : clean_str(x))\n",
    "test_df['Discuss'] = test_df['Discuss'].map(lambda x : clean_str(x))"
   ]
  },
  {
   "cell_type": "code",
   "execution_count": 19,
   "metadata": {},
   "outputs": [
    {
     "data": {
      "text/html": [
       "<div>\n",
       "<style>\n",
       "    .dataframe thead tr:only-child th {\n",
       "        text-align: right;\n",
       "    }\n",
       "\n",
       "    .dataframe thead th {\n",
       "        text-align: left;\n",
       "    }\n",
       "\n",
       "    .dataframe tbody tr th {\n",
       "        vertical-align: top;\n",
       "    }\n",
       "</style>\n",
       "<table border=\"1\" class=\"dataframe\">\n",
       "  <thead>\n",
       "    <tr style=\"text-align: right;\">\n",
       "      <th></th>\n",
       "      <th>Id</th>\n",
       "      <th>Discuss</th>\n",
       "      <th>Score</th>\n",
       "    </tr>\n",
       "  </thead>\n",
       "  <tbody>\n",
       "    <tr>\n",
       "      <th>0</th>\n",
       "      <td>201e8bf2-77a2-3a98-9fcf-4ce03914e712</td>\n",
       "      <td>好大 游乐 公园 次 感觉 玩够 第三 第四次</td>\n",
       "      <td>5</td>\n",
       "    </tr>\n",
       "    <tr>\n",
       "      <th>1</th>\n",
       "      <td>f4d51947-eac4-3005-9d3c-2f32d6068a2d</td>\n",
       "      <td>新 中国 成立 中国 深刻 意义</td>\n",
       "      <td>4</td>\n",
       "    </tr>\n",
       "    <tr>\n",
       "      <th>2</th>\n",
       "      <td>74aa7ae4-03a4-394c-bee0-5702d3a3082a</td>\n",
       "      <td>庐山 瀑布 有名 多个 瀑布 好看 非 三叠 泉莫属 推荐 一去</td>\n",
       "      <td>4</td>\n",
       "    </tr>\n",
       "    <tr>\n",
       "      <th>3</th>\n",
       "      <td>099661c2-4360-3c49-a2fe-8c783764f7db</td>\n",
       "      <td>颐和园 北京 最值 地方 相比 门票 最贵 故宫 雄伟 气势磅礴 颐和园 宁静 波光粼粼 美</td>\n",
       "      <td>5</td>\n",
       "    </tr>\n",
       "    <tr>\n",
       "      <th>4</th>\n",
       "      <td>97ca672d-e558-3542-ba7b-ee719bba1bab</td>\n",
       "      <td>迪斯尼 一日游</td>\n",
       "      <td>5</td>\n",
       "    </tr>\n",
       "  </tbody>\n",
       "</table>\n",
       "</div>"
      ],
      "text/plain": [
       "                                     Id  \\\n",
       "0  201e8bf2-77a2-3a98-9fcf-4ce03914e712   \n",
       "1  f4d51947-eac4-3005-9d3c-2f32d6068a2d   \n",
       "2  74aa7ae4-03a4-394c-bee0-5702d3a3082a   \n",
       "3  099661c2-4360-3c49-a2fe-8c783764f7db   \n",
       "4  97ca672d-e558-3542-ba7b-ee719bba1bab   \n",
       "\n",
       "                                          Discuss  Score  \n",
       "0                         好大 游乐 公园 次 感觉 玩够 第三 第四次      5  \n",
       "1                                新 中国 成立 中国 深刻 意义      4  \n",
       "2                庐山 瀑布 有名 多个 瀑布 好看 非 三叠 泉莫属 推荐 一去      4  \n",
       "3  颐和园 北京 最值 地方 相比 门票 最贵 故宫 雄伟 气势磅礴 颐和园 宁静 波光粼粼 美      5  \n",
       "4                                         迪斯尼 一日游      5  "
      ]
     },
     "execution_count": 19,
     "metadata": {},
     "output_type": "execute_result"
    }
   ],
   "source": [
    "df.head()"
   ]
  },
  {
   "cell_type": "code",
   "execution_count": 20,
   "metadata": {
    "collapsed": true
   },
   "outputs": [],
   "source": [
    "n = df.shape[0]\n",
    "vec = TfidfVectorizer(ngram_range=(1,2),min_df=3, max_df=0.9, use_idf=1,smooth_idf=1, sublinear_tf=1 )\n",
    "trn_term_doc = vec.fit_transform(df['Discuss'])\n",
    "test_term_doc = vec.transform(test_df['Discuss'])"
   ]
  },
  {
   "cell_type": "code",
   "execution_count": 21,
   "metadata": {},
   "outputs": [
    {
     "data": {
      "text/plain": [
       "(<83992x72943 sparse matrix of type '<class 'numpy.float64'>'\n",
       " \twith 1188804 stored elements in Compressed Sparse Row format>,\n",
       " <30000x72943 sparse matrix of type '<class 'numpy.float64'>'\n",
       " \twith 365857 stored elements in Compressed Sparse Row format>)"
      ]
     },
     "execution_count": 21,
     "metadata": {},
     "output_type": "execute_result"
    }
   ],
   "source": [
    "trn_term_doc, test_term_doc"
   ]
  },
  {
   "cell_type": "code",
   "execution_count": 27,
   "metadata": {
    "collapsed": true
   },
   "outputs": [],
   "source": [
    "from sklearn.base import BaseEstimator, ClassifierMixin\n",
    "from sklearn.utils.validation import check_X_y, check_is_fitted\n",
    "from sklearn.linear_model import LogisticRegression\n",
    "from scipy import sparse\n",
    "class NbSvmClassifier(BaseEstimator, ClassifierMixin):\n",
    "    def __init__(self, C=1.0, dual=False, n_jobs=1):\n",
    "        self.C = C\n",
    "        self.dual = dual\n",
    "        self.n_jobs = n_jobs\n",
    "\n",
    "    def predict(self, x):\n",
    "        # Verify that model has been fit\n",
    "        check_is_fitted(self, ['_r', '_clf'])\n",
    "        return self._clf.predict(x.multiply(self._r))\n",
    "\n",
    "    def predict_proba(self, x):\n",
    "        # Verify that model has been fit\n",
    "        check_is_fitted(self, ['_r', '_clf'])\n",
    "        return self._clf.predict_proba(x.multiply(self._r))\n",
    "\n",
    "    def fit(self, x, y):\n",
    "        # Check that X and y have correct shape\n",
    "        y = y.values\n",
    "        x, y = check_X_y(x, y, accept_sparse=True)\n",
    "\n",
    "        def pr(x, y_i, y):\n",
    "            p = x[y==y_i].sum(0)\n",
    "            return (p+1) / ((y==y_i).sum()+1)\n",
    "\n",
    "        self._r = sparse.csr_matrix(np.log(pr(x,1,y) / pr(x,0,y)))\n",
    "        x_nb = x.multiply(self._r)\n",
    "        self._clf = LogisticRegression(C=self.C, dual=self.dual, n_jobs=self.n_jobs).fit(x_nb, y)\n",
    "        return self"
   ]
  },
  {
   "cell_type": "code",
   "execution_count": 38,
   "metadata": {},
   "outputs": [
    {
     "name": "stderr",
     "output_type": "stream",
     "text": [
      "/Users/wangle/anaconda3/lib/python3.6/site-packages/sklearn/linear_model/logistic.py:1228: UserWarning: 'n_jobs' > 1 does not have any effect when 'solver' is set to 'liblinear'. Got 'n_jobs' = -1.\n",
      "  \" = {}.\".format(self.n_jobs))\n"
     ]
    }
   ],
   "source": [
    "model = NbSvmClassifier(C=4, dual=True, n_jobs=-1).fit(trn_term_doc,df['Score'])"
   ]
  },
  {
   "cell_type": "code",
   "execution_count": 39,
   "metadata": {},
   "outputs": [],
   "source": [
    "pred = model.predict_proba(test_term_doc)\n",
    "pred = get_predict(pred)\n",
    "test_df['Score3'] = pred"
   ]
  },
  {
   "cell_type": "code",
   "execution_count": 82,
   "metadata": {
    "collapsed": true
   },
   "outputs": [],
   "source": [
    "test_df['Score3'] = pred\n",
    "sub_data = test_df[['Id','Score3']]\n",
    "sub_data.to_csv('sub3.csv',header=None,index=False)"
   ]
  },
  {
   "cell_type": "code",
   "execution_count": 83,
   "metadata": {},
   "outputs": [
    {
     "data": {
      "text/plain": [
       "count    30000.000000\n",
       "mean         4.449839\n",
       "std          0.577546\n",
       "min          1.000000\n",
       "25%          4.060000\n",
       "50%          4.620000\n",
       "75%          5.000000\n",
       "max          5.000000\n",
       "Name: Score2, dtype: float64"
      ]
     },
     "execution_count": 83,
     "metadata": {},
     "output_type": "execute_result"
    }
   ],
   "source": [
    "test_df['Score2'].describe()"
   ]
  },
  {
   "cell_type": "code",
   "execution_count": 22,
   "metadata": {
    "collapsed": true
   },
   "outputs": [],
   "source": [
    "def get_predict(pred):\n",
    "    score = np.array([1,2,3,4,5])\n",
    "    pred2 = []\n",
    "    for p in pred:\n",
    "        pr = np.sum(p * score)\n",
    "        pred2.append(round(pr,2))\n",
    "    return np.array(pred2)"
   ]
  },
  {
   "cell_type": "code",
   "execution_count": 30,
   "metadata": {},
   "outputs": [],
   "source": [
    "def rmsel(true_label,pred):\n",
    "    true_label = np.array(true_label)\n",
    "    pred = np.array(pred)  \n",
    "    n = len(true_label)\n",
    "    a = true_label - pred\n",
    "    rmse = np.sqrt(np.sum(a * a)/n)\n",
    "    b = 1/(1+rmse)\n",
    "    return b"
   ]
  },
  {
   "cell_type": "code",
   "execution_count": 25,
   "metadata": {
    "collapsed": true
   },
   "outputs": [],
   "source": [
    "from sklearn.naive_bayes import GaussianNB, MultinomialNB\n",
    "from sklearn.model_selection import StratifiedShuffleSplit"
   ]
  },
  {
   "cell_type": "code",
   "execution_count": 31,
   "metadata": {},
   "outputs": [
    {
     "name": "stdout",
     "output_type": "stream",
     "text": [
      "0.571626400442\n",
      "0.572019582215\n",
      "0.571727108892\n",
      "0.572622077741\n",
      "0.572127754907\n"
     ]
    }
   ],
   "source": [
    "clf = MultinomialNB()\n",
    "X = trn_term_doc\n",
    "y = df['Score'].values\n",
    "sss = StratifiedShuffleSplit(n_splits=5, test_size=0.2, random_state=3)\n",
    "for train_index, test_index in sss.split(X, y):\n",
    "    X_train, X_test = X[train_index], X[test_index]\n",
    "    X_train, X_test = X_train.toarray(), X_test.toarray()\n",
    "    y_train, y_test = y[train_index], y[test_index]\n",
    "    clf.fit(X_train,y_train)\n",
    "    pred_i = clf.predict_proba(X_test)\n",
    "    pred_i = get_predict(pred_i)\n",
    "    print(rmsel(y_test,pred_i))"
   ]
  },
  {
   "cell_type": "code",
   "execution_count": 28,
   "metadata": {},
   "outputs": [
    {
     "name": "stderr",
     "output_type": "stream",
     "text": [
      "/Users/wangle/anaconda3/lib/python3.6/site-packages/sklearn/linear_model/logistic.py:1228: UserWarning: 'n_jobs' > 1 does not have any effect when 'solver' is set to 'liblinear'. Got 'n_jobs' = -1.\n",
      "  \" = {}.\".format(self.n_jobs))\n"
     ]
    },
    {
     "name": "stdout",
     "output_type": "stream",
     "text": [
      "0.0108159018056\n",
      "0.0108085497946\n",
      "0.0108006587082\n",
      "0.0108813453395\n",
      "0.0108360927069\n"
     ]
    }
   ],
   "source": [
    "clf = LogisticRegression(C=4, dual=True, n_jobs=-1)\n",
    "X = trn_term_doc\n",
    "y = df['Score'].values\n",
    "sss = StratifiedShuffleSplit(n_splits=5, test_size=0.2, random_state=3)\n",
    "for train_index, test_index in sss.split(X, y):\n",
    "    X_train, X_test = X[train_index], X[test_index]\n",
    "    X_train, X_test = X_train.toarray(), X_test.toarray()\n",
    "    y_train, y_test = y[train_index], y[test_index]\n",
    "    clf.fit(X_train,y_train)\n",
    "    pred_i = clf.predict_proba(X_test)\n",
    "    pred_i = get_predict(pred_i)\n",
    "    print(rmsel(y_test,pred_i))"
   ]
  },
  {
   "cell_type": "code",
   "execution_count": 32,
   "metadata": {
    "collapsed": true
   },
   "outputs": [],
   "source": [
    "clf = MultinomialNB()\n",
    "X = trn_term_doc\n",
    "y = df['Score'].values\n",
    "\n",
    "clf.fit(X,y)\n",
    "pred_i = clf.predict_proba(test_term_doc)"
   ]
  },
  {
   "cell_type": "code",
   "execution_count": 35,
   "metadata": {},
   "outputs": [],
   "source": [
    "pred_i = get_predict(pred_i)\n",
    "test_df['Score2'] = pred_i\n",
    "sub_data = test_df[['Id','Score2']]\n",
    "sub_data.to_csv('sub4.csv',header=None,index=False)"
   ]
  },
  {
   "cell_type": "code",
   "execution_count": 42,
   "metadata": {},
   "outputs": [
    {
     "data": {
      "text/html": [
       "<div>\n",
       "<style>\n",
       "    .dataframe thead tr:only-child th {\n",
       "        text-align: right;\n",
       "    }\n",
       "\n",
       "    .dataframe thead th {\n",
       "        text-align: left;\n",
       "    }\n",
       "\n",
       "    .dataframe tbody tr th {\n",
       "        vertical-align: top;\n",
       "    }\n",
       "</style>\n",
       "<table border=\"1\" class=\"dataframe\">\n",
       "  <thead>\n",
       "    <tr style=\"text-align: right;\">\n",
       "      <th></th>\n",
       "      <th>Score</th>\n",
       "      <th>Score2</th>\n",
       "      <th>Score3</th>\n",
       "    </tr>\n",
       "  </thead>\n",
       "  <tbody>\n",
       "    <tr>\n",
       "      <th>count</th>\n",
       "      <td>30000.000000</td>\n",
       "      <td>30000.000000</td>\n",
       "      <td>30000.000000</td>\n",
       "    </tr>\n",
       "    <tr>\n",
       "      <th>mean</th>\n",
       "      <td>4.451419</td>\n",
       "      <td>4.608339</td>\n",
       "      <td>4.423727</td>\n",
       "    </tr>\n",
       "    <tr>\n",
       "      <th>std</th>\n",
       "      <td>0.492803</td>\n",
       "      <td>0.209983</td>\n",
       "      <td>0.557432</td>\n",
       "    </tr>\n",
       "    <tr>\n",
       "      <th>min</th>\n",
       "      <td>1.351500</td>\n",
       "      <td>2.720000</td>\n",
       "      <td>1.110000</td>\n",
       "    </tr>\n",
       "    <tr>\n",
       "      <th>25%</th>\n",
       "      <td>4.126500</td>\n",
       "      <td>4.470000</td>\n",
       "      <td>4.060000</td>\n",
       "    </tr>\n",
       "    <tr>\n",
       "      <th>50%</th>\n",
       "      <td>4.623000</td>\n",
       "      <td>4.630000</td>\n",
       "      <td>4.620000</td>\n",
       "    </tr>\n",
       "    <tr>\n",
       "      <th>75%</th>\n",
       "      <td>4.848500</td>\n",
       "      <td>4.770000</td>\n",
       "      <td>4.870000</td>\n",
       "    </tr>\n",
       "    <tr>\n",
       "      <th>max</th>\n",
       "      <td>5.000000</td>\n",
       "      <td>5.000000</td>\n",
       "      <td>5.000000</td>\n",
       "    </tr>\n",
       "  </tbody>\n",
       "</table>\n",
       "</div>"
      ],
      "text/plain": [
       "              Score        Score2        Score3\n",
       "count  30000.000000  30000.000000  30000.000000\n",
       "mean       4.451419      4.608339      4.423727\n",
       "std        0.492803      0.209983      0.557432\n",
       "min        1.351500      2.720000      1.110000\n",
       "25%        4.126500      4.470000      4.060000\n",
       "50%        4.623000      4.630000      4.620000\n",
       "75%        4.848500      4.770000      4.870000\n",
       "max        5.000000      5.000000      5.000000"
      ]
     },
     "execution_count": 42,
     "metadata": {},
     "output_type": "execute_result"
    }
   ],
   "source": [
    "test_df[['Score','Score2','Score3']].describe()"
   ]
  },
  {
   "cell_type": "code",
   "execution_count": 41,
   "metadata": {
    "collapsed": true
   },
   "outputs": [],
   "source": [
    "test_df['Score'] = 0.15*test_df['Score2'] + 0.85*test_df['Score3']"
   ]
  },
  {
   "cell_type": "code",
   "execution_count": 43,
   "metadata": {
    "collapsed": true
   },
   "outputs": [],
   "source": [
    "sub_data = test_df[['Id','Score']]\n",
    "sub_data.to_csv('sub4.csv',header=None,index=False)"
   ]
  },
  {
   "cell_type": "code",
   "execution_count": null,
   "metadata": {
    "collapsed": true
   },
   "outputs": [],
   "source": []
  }
 ],
 "metadata": {
  "kernelspec": {
   "display_name": "Python 3",
   "language": "python",
   "name": "python3"
  },
  "language_info": {
   "codemirror_mode": {
    "name": "ipython",
    "version": 3
   },
   "file_extension": ".py",
   "mimetype": "text/x-python",
   "name": "python",
   "nbconvert_exporter": "python",
   "pygments_lexer": "ipython3",
   "version": "3.6.2"
  }
 },
 "nbformat": 4,
 "nbformat_minor": 2
}
